{
 "cells": [
  {
   "cell_type": "code",
   "execution_count": 1,
   "metadata": {},
   "outputs": [],
   "source": [
    "from datetime import datetime\n",
    "import struct\n",
    "import numpy as np"
   ]
  },
  {
   "cell_type": "code",
   "execution_count": 2,
   "metadata": {},
   "outputs": [
    {
     "data": {
      "text/plain": [
       "datetime.datetime(2020, 8, 13, 5, 56, 21, 952464)"
      ]
     },
     "execution_count": 2,
     "metadata": {},
     "output_type": "execute_result"
    }
   ],
   "source": [
    "# We'll use the current time as a timestamp\n",
    "now = datetime.utcnow()\n",
    "now"
   ]
  },
  {
   "cell_type": "code",
   "execution_count": 3,
   "metadata": {},
   "outputs": [],
   "source": [
    "# For our sample strike, I'm going to use the lat/lon of Huntsville, Alabama,\n",
    "# and assume the intensity is 12.8 kAmps\n",
    "lat = 34.73\n",
    "lon = -86.585\n",
    "kamps = 12.8"
   ]
  },
  {
   "cell_type": "code",
   "execution_count": 4,
   "metadata": {},
   "outputs": [],
   "source": [
    "# The strike message is 24 bytes.  We could use a\n",
    "# bytearray, but NumPy makes it easier to calculate\n",
    "# the checksum.\n",
    "msg = np.zeros(shape=(24,), dtype=np.uint8)"
   ]
  },
  {
   "cell_type": "code",
   "execution_count": 5,
   "metadata": {},
   "outputs": [],
   "source": [
    "# The \"minutes\" field is really combined hours and minutes.\n",
    "minutes = now.hour * 60 + now.minute\n",
    "\n",
    "# The \"milliseconds\" is likewise the seconds and milliseconds.\n",
    "# (Python datetime gives us microseconds, but the output is\n",
    "# only precise to milliseconds.)\n",
    "msec = now.second * 1000 + now.microsecond // 1000\n",
    "\n",
    "year = now.year\n",
    "month = now.month\n",
    "day = now.day"
   ]
  },
  {
   "cell_type": "code",
   "execution_count": 6,
   "metadata": {},
   "outputs": [],
   "source": [
    "# Day of the month is split into two nybbles\n",
    "day_hi = (day >> 4) & 0xF\n",
    "day_lo = day & 0xF\n",
    "\n",
    "# Some other fields are split into two bytes\n",
    "year_lo = year & 0xFF\n",
    "year_hi = (year >> 8) & 0xF\n",
    "minutes_lo = minutes & 0xFF\n",
    "minutes_hi = (minutes >> 8) & 0xFF\n",
    "msec_lo = msec & 0xFF\n",
    "msec_hi = (msec >> 8) & 0xFF"
   ]
  },
  {
   "cell_type": "code",
   "execution_count": 7,
   "metadata": {},
   "outputs": [],
   "source": [
    "# The first byte gives the message type:\n",
    "# 0 for cloud-to-ground\n",
    "# 2 for network timing\n",
    "# 3 for cloud-to-cloud\n",
    "msg[0] = 0\n",
    "\n",
    "# There's really no rhyme or reason as to how the timestamp\n",
    "# is encoded in the next seven bytes.  Some fields are done\n",
    "# little-endian, some big-endian, some divided at nybbles,\n",
    "# and the year is split between two bytes that are not\n",
    "# consecutive.\n",
    "msg[1] = minutes_hi\n",
    "msg[2] = minutes_lo\n",
    "msg[3] = msec_lo\n",
    "msg[4] = msec_hi\n",
    "msg[5] = year_lo\n",
    "msg[6] = (month << 4) | day_hi\n",
    "msg[7] = (day_lo << 4) | year_hi"
   ]
  },
  {
   "cell_type": "code",
   "execution_count": 8,
   "metadata": {},
   "outputs": [],
   "source": [
    "# Lat/lon are scaled by 10 million.  Power is in hectoamps.\n",
    "ilat = int(lat * 1e7)\n",
    "ilon = int(lon * 1e7)\n",
    "hectoamps = round(kamps * 10)"
   ]
  },
  {
   "cell_type": "code",
   "execution_count": 9,
   "metadata": {},
   "outputs": [],
   "source": [
    "# Pack this into the message buffer, starting from byte 8.  (We already\n",
    "# populated the first 8 bytes above.)  This doesn't set the GDOP or error\n",
    "# ellipse fields, so those will be left as zero.\n",
    "struct.pack_into('<lBhl', msg, 8, ilon, 0, hectoamps, ilat)"
   ]
  },
  {
   "cell_type": "code",
   "execution_count": 10,
   "metadata": {},
   "outputs": [],
   "source": [
    "# Now compute the checksum, which goes in the last byte of the message.\n",
    "checksum = 256 - int(np.sum(msg, dtype=np.uint8))\n",
    "msg[23] = checksum"
   ]
  },
  {
   "cell_type": "code",
   "execution_count": 11,
   "metadata": {},
   "outputs": [
    {
     "data": {
      "text/plain": [
       "array([  0,   1, 100, 192,  85, 228, 128, 215, 113,  45, 100, 204,   0,\n",
       "       128,   0, 159,  96, 179,  20,   0,   0,   0,   0,  55], dtype=uint8)"
      ]
     },
     "execution_count": 11,
     "metadata": {},
     "output_type": "execute_result"
    }
   ],
   "source": [
    "msg"
   ]
  },
  {
   "cell_type": "code",
   "execution_count": 12,
   "metadata": {},
   "outputs": [],
   "source": [
    "with open('/tmp/toa.dat', 'wb') as of:\n",
    "    of.write(msg.tobytes())"
   ]
  }
 ],
 "metadata": {
  "kernelspec": {
   "display_name": "Python 3",
   "language": "python",
   "name": "python3"
  },
  "language_info": {
   "codemirror_mode": {
    "name": "ipython",
    "version": 3
   },
   "file_extension": ".py",
   "mimetype": "text/x-python",
   "name": "python",
   "nbconvert_exporter": "python",
   "pygments_lexer": "ipython3",
   "version": "3.7.5"
  }
 },
 "nbformat": 4,
 "nbformat_minor": 2
}
